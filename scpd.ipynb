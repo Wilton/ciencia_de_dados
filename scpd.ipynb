{
 "cells": [
  {
   "cell_type": "code",
   "execution_count": 128,
   "metadata": {},
   "outputs": [],
   "source": [
    "import pandas as pd\n",
    "import seaborn as sns"
   ]
  },
  {
   "cell_type": "code",
   "execution_count": 23,
   "metadata": {},
   "outputs": [],
   "source": [
    "df = pd.read_excel(\"201710_emissao_passagens_scdp.xlsx\", skiprows=3)"
   ]
  },
  {
   "cell_type": "code",
   "execution_count": 27,
   "metadata": {},
   "outputs": [
    {
     "name": "stdout",
     "output_type": "stream",
     "text": [
      "<class 'pandas.core.frame.DataFrame'>\n",
      "RangeIndex: 50408 entries, 0 to 50407\n",
      "Data columns (total 23 columns):\n",
      " Código do órgão superior                                                                                           50407 non-null object\n",
      "                               Nome do órgão superior                                                               50405 non-null object\n",
      " Código do órgão solicitante da viagem                                                                              50405 non-null float64\n",
      "                                      Nome do órgão solicitante da viagem                                           50405 non-null object\n",
      "    N. PCDP                                                                                                         50405 non-null object\n",
      " N. Reserva/Localizador                                                                                             50405 non-null object\n",
      "  Data Emissão Bilhete                                                                                              50405 non-null object\n",
      "    Data Embarque                                                                                                   50405 non-null object\n",
      " Valor Tarifa Comercial                                                                                             50405 non-null float64\n",
      " Percentual Desconto Aplicado                                                                                       50405 non-null float64\n",
      " Valor Tarifa Governo                                                                                               50405 non-null float64\n",
      " Valor Tarifa Embarque                                                                                              50405 non-null float64\n",
      " Valor Bilhete                                                                                                      50405 non-null float64\n",
      "           Companhia Aérea                                                                                          50405 non-null object\n",
      " Classe Tarifária Bilhete                                                                                           50405 non-null object\n",
      "                                       Regra Tarifária                                                              50405 non-null object\n",
      " No Show                                                                                                            50405 non-null object\n",
      " Remarcado                                                                                                          50405 non-null object\n",
      " Cancelado                                                                                                          50405 non-null object\n",
      " Valor Multas                                                                                                       50405 non-null float64\n",
      " Valor Reembolso                                                                                                    50405 non-null float64\n",
      " Diferença de Tarifa                                                                                                50405 non-null float64\n",
      " Situação Final Bilhete                                                                                             50405 non-null object\n",
      "dtypes: float64(9), object(14)\n",
      "memory usage: 8.8+ MB\n"
     ]
    }
   ],
   "source": [
    "df.info()"
   ]
  },
  {
   "cell_type": "code",
   "execution_count": 137,
   "metadata": {},
   "outputs": [],
   "source": [
    "df.columns = df.columns.str.strip()"
   ]
  },
  {
   "cell_type": "code",
   "execution_count": 46,
   "metadata": {},
   "outputs": [
    {
     "data": {
      "text/html": [
       "<div>\n",
       "<style scoped>\n",
       "    .dataframe tbody tr th:only-of-type {\n",
       "        vertical-align: middle;\n",
       "    }\n",
       "\n",
       "    .dataframe tbody tr th {\n",
       "        vertical-align: top;\n",
       "    }\n",
       "\n",
       "    .dataframe thead th {\n",
       "        text-align: right;\n",
       "    }\n",
       "</style>\n",
       "<table border=\"1\" class=\"dataframe\">\n",
       "  <thead>\n",
       "    <tr style=\"text-align: right;\">\n",
       "      <th></th>\n",
       "      <th>Código do órgão superior</th>\n",
       "      <th>Nome do órgão superior</th>\n",
       "      <th>Código do órgão solicitante da viagem</th>\n",
       "      <th>Nome do órgão solicitante da viagem</th>\n",
       "      <th>N. PCDP</th>\n",
       "      <th>N. Reserva/Localizador</th>\n",
       "      <th>Data Emissão Bilhete</th>\n",
       "      <th>Data Embarque</th>\n",
       "      <th>Valor Tarifa Comercial</th>\n",
       "      <th>Percentual Desconto Aplicado</th>\n",
       "      <th>...</th>\n",
       "      <th>Companhia Aérea</th>\n",
       "      <th>Classe Tarifária Bilhete</th>\n",
       "      <th>Regra Tarifária</th>\n",
       "      <th>No Show</th>\n",
       "      <th>Remarcado</th>\n",
       "      <th>Cancelado</th>\n",
       "      <th>Valor Multas</th>\n",
       "      <th>Valor Reembolso</th>\n",
       "      <th>Diferença de Tarifa</th>\n",
       "      <th>Situação Final Bilhete</th>\n",
       "    </tr>\n",
       "  </thead>\n",
       "  <tbody>\n",
       "    <tr>\n",
       "      <th>50403</th>\n",
       "      <td>219924</td>\n",
       "      <td>Secretaria-Geral da Presidência da República ...</td>\n",
       "      <td>34889.0</td>\n",
       "      <td>Diretoria de Recursos Logísticos             ...</td>\n",
       "      <td>000188/17</td>\n",
       "      <td>KD6EE6</td>\n",
       "      <td>2017-10-18 10:10:02.284</td>\n",
       "      <td>2017-10-26 09:35:00</td>\n",
       "      <td>454.93</td>\n",
       "      <td>0.0</td>\n",
       "      <td>...</td>\n",
       "      <td>LATAM AIRLINES BRASIL</td>\n",
       "      <td>X</td>\n",
       "      <td>http://t.umail.com.br/ClickHere/ViewEmail.asp...</td>\n",
       "      <td>Não</td>\n",
       "      <td>Não</td>\n",
       "      <td>Não</td>\n",
       "      <td>0.0</td>\n",
       "      <td>0.0</td>\n",
       "      <td>0.0</td>\n",
       "      <td>Andamento</td>\n",
       "    </tr>\n",
       "    <tr>\n",
       "      <th>50404</th>\n",
       "      <td>219924</td>\n",
       "      <td>Secretaria-Geral da Presidência da República ...</td>\n",
       "      <td>34889.0</td>\n",
       "      <td>Diretoria de Recursos Logísticos             ...</td>\n",
       "      <td>000188/17</td>\n",
       "      <td>OEWY8V</td>\n",
       "      <td>2017-10-18 10:09:20.946</td>\n",
       "      <td>2017-10-22 09:50:00</td>\n",
       "      <td>782.90</td>\n",
       "      <td>0.0</td>\n",
       "      <td>...</td>\n",
       "      <td>GOL Linhas Aéreas Inteligentes</td>\n",
       "      <td>W</td>\n",
       "      <td>https://www.voegol.com.br/pt/informacoes/tari...</td>\n",
       "      <td>Não</td>\n",
       "      <td>Não</td>\n",
       "      <td>Não</td>\n",
       "      <td>0.0</td>\n",
       "      <td>0.0</td>\n",
       "      <td>0.0</td>\n",
       "      <td>Andamento</td>\n",
       "    </tr>\n",
       "    <tr>\n",
       "      <th>50405</th>\n",
       "      <td>NaN</td>\n",
       "      <td>NaN</td>\n",
       "      <td>NaN</td>\n",
       "      <td>NaN</td>\n",
       "      <td>NaN</td>\n",
       "      <td>NaN</td>\n",
       "      <td>NaN</td>\n",
       "      <td>NaN</td>\n",
       "      <td>NaN</td>\n",
       "      <td>NaN</td>\n",
       "      <td>...</td>\n",
       "      <td>NaN</td>\n",
       "      <td>NaN</td>\n",
       "      <td>NaN</td>\n",
       "      <td>NaN</td>\n",
       "      <td>NaN</td>\n",
       "      <td>NaN</td>\n",
       "      <td>NaN</td>\n",
       "      <td>NaN</td>\n",
       "      <td>NaN</td>\n",
       "      <td>NaN</td>\n",
       "    </tr>\n",
       "    <tr>\n",
       "      <th>50406</th>\n",
       "      <td>* Dados obtidos em Outubro/2017</td>\n",
       "      <td>NaN</td>\n",
       "      <td>NaN</td>\n",
       "      <td>NaN</td>\n",
       "      <td>NaN</td>\n",
       "      <td>NaN</td>\n",
       "      <td>NaN</td>\n",
       "      <td>NaN</td>\n",
       "      <td>NaN</td>\n",
       "      <td>NaN</td>\n",
       "      <td>...</td>\n",
       "      <td>NaN</td>\n",
       "      <td>NaN</td>\n",
       "      <td>NaN</td>\n",
       "      <td>NaN</td>\n",
       "      <td>NaN</td>\n",
       "      <td>NaN</td>\n",
       "      <td>NaN</td>\n",
       "      <td>NaN</td>\n",
       "      <td>NaN</td>\n",
       "      <td>NaN</td>\n",
       "    </tr>\n",
       "    <tr>\n",
       "      <th>50407</th>\n",
       "      <td>* Dados retiradas do SCDP com base em informaç...</td>\n",
       "      <td>NaN</td>\n",
       "      <td>NaN</td>\n",
       "      <td>NaN</td>\n",
       "      <td>NaN</td>\n",
       "      <td>NaN</td>\n",
       "      <td>NaN</td>\n",
       "      <td>NaN</td>\n",
       "      <td>NaN</td>\n",
       "      <td>NaN</td>\n",
       "      <td>...</td>\n",
       "      <td>NaN</td>\n",
       "      <td>NaN</td>\n",
       "      <td>NaN</td>\n",
       "      <td>NaN</td>\n",
       "      <td>NaN</td>\n",
       "      <td>NaN</td>\n",
       "      <td>NaN</td>\n",
       "      <td>NaN</td>\n",
       "      <td>NaN</td>\n",
       "      <td>NaN</td>\n",
       "    </tr>\n",
       "  </tbody>\n",
       "</table>\n",
       "<p>5 rows × 23 columns</p>\n",
       "</div>"
      ],
      "text/plain": [
       "                                Código do órgão superior  \\\n",
       "50403                                             219924   \n",
       "50404                                             219924   \n",
       "50405                                                NaN   \n",
       "50406                    * Dados obtidos em Outubro/2017   \n",
       "50407  * Dados retiradas do SCDP com base em informaç...   \n",
       "\n",
       "                                  Nome do órgão superior  \\\n",
       "50403   Secretaria-Geral da Presidência da República ...   \n",
       "50404   Secretaria-Geral da Presidência da República ...   \n",
       "50405                                                NaN   \n",
       "50406                                                NaN   \n",
       "50407                                                NaN   \n",
       "\n",
       "       Código do órgão solicitante da viagem  \\\n",
       "50403                                34889.0   \n",
       "50404                                34889.0   \n",
       "50405                                    NaN   \n",
       "50406                                    NaN   \n",
       "50407                                    NaN   \n",
       "\n",
       "                     Nome do órgão solicitante da viagem          N. PCDP  \\\n",
       "50403   Diretoria de Recursos Logísticos             ...   000188/17        \n",
       "50404   Diretoria de Recursos Logísticos             ...   000188/17        \n",
       "50405                                                NaN              NaN   \n",
       "50406                                                NaN              NaN   \n",
       "50407                                                NaN              NaN   \n",
       "\n",
       "         N. Reserva/Localizador      Data Emissão Bilhete  \\\n",
       "50403   KD6EE6                    2017-10-18 10:10:02.284   \n",
       "50404   OEWY8V                    2017-10-18 10:09:20.946   \n",
       "50405                       NaN                       NaN   \n",
       "50406                       NaN                       NaN   \n",
       "50407                       NaN                       NaN   \n",
       "\n",
       "              Data Embarque  Valor Tarifa Comercial  \\\n",
       "50403   2017-10-26 09:35:00                  454.93   \n",
       "50404   2017-10-22 09:50:00                  782.90   \n",
       "50405                   NaN                     NaN   \n",
       "50406                   NaN                     NaN   \n",
       "50407                   NaN                     NaN   \n",
       "\n",
       "       Percentual Desconto Aplicado           ...            \\\n",
       "50403                           0.0           ...             \n",
       "50404                           0.0           ...             \n",
       "50405                           NaN           ...             \n",
       "50406                           NaN           ...             \n",
       "50407                           NaN           ...             \n",
       "\n",
       "                              Companhia Aérea    Classe Tarifária Bilhete  \\\n",
       "50403   LATAM AIRLINES BRASIL                   X                           \n",
       "50404   GOL Linhas Aéreas Inteligentes          W                           \n",
       "50405                                     NaN                         NaN   \n",
       "50406                                     NaN                         NaN   \n",
       "50407                                     NaN                         NaN   \n",
       "\n",
       "                                         Regra Tarifária    No Show  \\\n",
       "50403   http://t.umail.com.br/ClickHere/ViewEmail.asp...   Não        \n",
       "50404   https://www.voegol.com.br/pt/informacoes/tari...   Não        \n",
       "50405                                                NaN        NaN   \n",
       "50406                                                NaN        NaN   \n",
       "50407                                                NaN        NaN   \n",
       "\n",
       "         Remarcado    Cancelado Valor Multas Valor Reembolso  \\\n",
       "50403   Não          Não                 0.0             0.0   \n",
       "50404   Não          Não                 0.0             0.0   \n",
       "50405          NaN          NaN          NaN             NaN   \n",
       "50406          NaN          NaN          NaN             NaN   \n",
       "50407          NaN          NaN          NaN             NaN   \n",
       "\n",
       "      Diferença de Tarifa  Situação Final Bilhete  \n",
       "50403                 0.0               Andamento  \n",
       "50404                 0.0               Andamento  \n",
       "50405                 NaN                     NaN  \n",
       "50406                 NaN                     NaN  \n",
       "50407                 NaN                     NaN  \n",
       "\n",
       "[5 rows x 23 columns]"
      ]
     },
     "execution_count": 46,
     "metadata": {},
     "output_type": "execute_result"
    }
   ],
   "source": [
    "# explorando os dados - tail: exibe as 5 ultimas colunas\n",
    "df.tail()"
   ]
  },
  {
   "cell_type": "code",
   "execution_count": 37,
   "metadata": {},
   "outputs": [
    {
     "name": "stdout",
     "output_type": "stream",
     "text": [
      "<class 'pandas.core.frame.DataFrame'>\n",
      "RangeIndex: 50408 entries, 0 to 50407\n",
      "Data columns (total 23 columns):\n",
      "Código do órgão superior                 50407 non-null object\n",
      "Nome do órgão superior                   50405 non-null object\n",
      "Código do órgão solicitante da viagem    50405 non-null float64\n",
      "Nome do órgão solicitante da viagem      50405 non-null object\n",
      "N. PCDP                                  50405 non-null object\n",
      "N. Reserva/Localizador                   50405 non-null object\n",
      "Data Emissão Bilhete                     50405 non-null object\n",
      "Data Embarque                            50405 non-null object\n",
      "Valor Tarifa Comercial                   50405 non-null float64\n",
      "Percentual Desconto Aplicado             50405 non-null float64\n",
      "Valor Tarifa Governo                     50405 non-null float64\n",
      "Valor Tarifa Embarque                    50405 non-null float64\n",
      "Valor Bilhete                            50405 non-null float64\n",
      "Companhia Aérea                          50405 non-null object\n",
      "Classe Tarifária Bilhete                 50405 non-null object\n",
      "Regra Tarifária                          50405 non-null object\n",
      "No Show                                  50405 non-null object\n",
      "Remarcado                                50405 non-null object\n",
      "Cancelado                                50405 non-null object\n",
      "Valor Multas                             50405 non-null float64\n",
      "Valor Reembolso                          50405 non-null float64\n",
      "Diferença de Tarifa                      50405 non-null float64\n",
      "Situação Final Bilhete                   50405 non-null object\n",
      "dtypes: float64(9), object(14)\n",
      "memory usage: 8.8+ MB\n"
     ]
    }
   ],
   "source": [
    "# explorando os dados e verificando os tipos\n",
    "df.info()"
   ]
  },
  {
   "cell_type": "code",
   "execution_count": 136,
   "metadata": {},
   "outputs": [],
   "source": [
    "df['Data Embarque'] = pd.to_datetime(df['Data Embarque'], format='%Y-%m-%d %H:%M:%S') "
   ]
  },
  {
   "cell_type": "code",
   "execution_count": 139,
   "metadata": {},
   "outputs": [
    {
     "ename": "ValueError",
     "evalue": "cannot convert float NaN to integer",
     "output_type": "error",
     "traceback": [
      "\u001b[0;31m---------------------------------------------------------------------------\u001b[0m",
      "\u001b[0;31mValueError\u001b[0m                                Traceback (most recent call last)",
      "\u001b[0;32m<ipython-input-139-193c113e14f3>\u001b[0m in \u001b[0;36m<module>\u001b[0;34m\u001b[0m\n\u001b[0;32m----> 1\u001b[0;31m \u001b[0msns\u001b[0m\u001b[0;34m.\u001b[0m\u001b[0mdistplot\u001b[0m\u001b[0;34m(\u001b[0m\u001b[0mdf\u001b[0m\u001b[0;34m[\u001b[0m\u001b[0;34m'Valor Bilhete'\u001b[0m\u001b[0;34m]\u001b[0m\u001b[0;34m)\u001b[0m\u001b[0;34m\u001b[0m\u001b[0;34m\u001b[0m\u001b[0m\n\u001b[0m",
      "\u001b[0;32m/usr/local/lib/python3.7/site-packages/seaborn/distributions.py\u001b[0m in \u001b[0;36mdistplot\u001b[0;34m(a, bins, hist, kde, rug, fit, hist_kws, kde_kws, rug_kws, fit_kws, color, vertical, norm_hist, axlabel, label, ax)\u001b[0m\n\u001b[1;32m    213\u001b[0m     \u001b[0;32mif\u001b[0m \u001b[0mhist\u001b[0m\u001b[0;34m:\u001b[0m\u001b[0;34m\u001b[0m\u001b[0;34m\u001b[0m\u001b[0m\n\u001b[1;32m    214\u001b[0m         \u001b[0;32mif\u001b[0m \u001b[0mbins\u001b[0m \u001b[0;32mis\u001b[0m \u001b[0;32mNone\u001b[0m\u001b[0;34m:\u001b[0m\u001b[0;34m\u001b[0m\u001b[0;34m\u001b[0m\u001b[0m\n\u001b[0;32m--> 215\u001b[0;31m             \u001b[0mbins\u001b[0m \u001b[0;34m=\u001b[0m \u001b[0mmin\u001b[0m\u001b[0;34m(\u001b[0m\u001b[0m_freedman_diaconis_bins\u001b[0m\u001b[0;34m(\u001b[0m\u001b[0ma\u001b[0m\u001b[0;34m)\u001b[0m\u001b[0;34m,\u001b[0m \u001b[0;36m50\u001b[0m\u001b[0;34m)\u001b[0m\u001b[0;34m\u001b[0m\u001b[0;34m\u001b[0m\u001b[0m\n\u001b[0m\u001b[1;32m    216\u001b[0m         \u001b[0mhist_kws\u001b[0m\u001b[0;34m.\u001b[0m\u001b[0msetdefault\u001b[0m\u001b[0;34m(\u001b[0m\u001b[0;34m\"alpha\"\u001b[0m\u001b[0;34m,\u001b[0m \u001b[0;36m0.4\u001b[0m\u001b[0;34m)\u001b[0m\u001b[0;34m\u001b[0m\u001b[0;34m\u001b[0m\u001b[0m\n\u001b[1;32m    217\u001b[0m         \u001b[0;32mif\u001b[0m \u001b[0mLooseVersion\u001b[0m\u001b[0;34m(\u001b[0m\u001b[0mmpl\u001b[0m\u001b[0;34m.\u001b[0m\u001b[0m__version__\u001b[0m\u001b[0;34m)\u001b[0m \u001b[0;34m<\u001b[0m \u001b[0mLooseVersion\u001b[0m\u001b[0;34m(\u001b[0m\u001b[0;34m\"2.2\"\u001b[0m\u001b[0;34m)\u001b[0m\u001b[0;34m:\u001b[0m\u001b[0;34m\u001b[0m\u001b[0;34m\u001b[0m\u001b[0m\n",
      "\u001b[0;32m/usr/local/lib/python3.7/site-packages/seaborn/distributions.py\u001b[0m in \u001b[0;36m_freedman_diaconis_bins\u001b[0;34m(a)\u001b[0m\n\u001b[1;32m     37\u001b[0m         \u001b[0;32mreturn\u001b[0m \u001b[0mint\u001b[0m\u001b[0;34m(\u001b[0m\u001b[0mnp\u001b[0m\u001b[0;34m.\u001b[0m\u001b[0msqrt\u001b[0m\u001b[0;34m(\u001b[0m\u001b[0ma\u001b[0m\u001b[0;34m.\u001b[0m\u001b[0msize\u001b[0m\u001b[0;34m)\u001b[0m\u001b[0;34m)\u001b[0m\u001b[0;34m\u001b[0m\u001b[0;34m\u001b[0m\u001b[0m\n\u001b[1;32m     38\u001b[0m     \u001b[0;32melse\u001b[0m\u001b[0;34m:\u001b[0m\u001b[0;34m\u001b[0m\u001b[0;34m\u001b[0m\u001b[0m\n\u001b[0;32m---> 39\u001b[0;31m         \u001b[0;32mreturn\u001b[0m \u001b[0mint\u001b[0m\u001b[0;34m(\u001b[0m\u001b[0mnp\u001b[0m\u001b[0;34m.\u001b[0m\u001b[0mceil\u001b[0m\u001b[0;34m(\u001b[0m\u001b[0;34m(\u001b[0m\u001b[0ma\u001b[0m\u001b[0;34m.\u001b[0m\u001b[0mmax\u001b[0m\u001b[0;34m(\u001b[0m\u001b[0;34m)\u001b[0m \u001b[0;34m-\u001b[0m \u001b[0ma\u001b[0m\u001b[0;34m.\u001b[0m\u001b[0mmin\u001b[0m\u001b[0;34m(\u001b[0m\u001b[0;34m)\u001b[0m\u001b[0;34m)\u001b[0m \u001b[0;34m/\u001b[0m \u001b[0mh\u001b[0m\u001b[0;34m)\u001b[0m\u001b[0;34m)\u001b[0m\u001b[0;34m\u001b[0m\u001b[0;34m\u001b[0m\u001b[0m\n\u001b[0m\u001b[1;32m     40\u001b[0m \u001b[0;34m\u001b[0m\u001b[0m\n\u001b[1;32m     41\u001b[0m \u001b[0;34m\u001b[0m\u001b[0m\n",
      "\u001b[0;31mValueError\u001b[0m: cannot convert float NaN to integer"
     ]
    },
    {
     "data": {
      "image/png": "[encoded data removed]",
      "text/plain": [
       "<Figure size 432x288 with 1 Axes>"
      ]
     },
     "metadata": {
      "needs_background": "light"
     },
     "output_type": "display_data"
    }
   ],
   "source": [
    "sns.distplot(df['Valor Bilhete'])"
   ]
  },
  {
   "cell_type": "code",
   "execution_count": 72,
   "metadata": {},
   "outputs": [
    {
     "name": "stdout",
     "output_type": "stream",
     "text": [
      "<class 'pandas.core.frame.DataFrame'>\n",
      "RangeIndex: 50408 entries, 0 to 50407\n",
      "Data columns (total 23 columns):\n",
      "Código do órgão superior                 50407 non-null object\n",
      "Nome do órgão superior                   50405 non-null object\n",
      "Código do órgão solicitante da viagem    50405 non-null float64\n",
      "Nome do órgão solicitante da viagem      50405 non-null object\n",
      "N. PCDP                                  50405 non-null object\n",
      "N. Reserva/Localizador                   50405 non-null object\n",
      "Data Emissão Bilhete                     50405 non-null object\n",
      "Data Embarque                            50405 non-null datetime64[ns]\n",
      "Valor Tarifa Comercial                   50405 non-null float64\n",
      "Percentual Desconto Aplicado             50405 non-null float64\n",
      "Valor Tarifa Governo                     50405 non-null float64\n",
      "Valor Tarifa Embarque                    50405 non-null float64\n",
      "Valor Bilhete                            50405 non-null float64\n",
      "Companhia Aérea                          50405 non-null object\n",
      "Classe Tarifária Bilhete                 50405 non-null object\n",
      "Regra Tarifária                          50405 non-null object\n",
      "No Show                                  50405 non-null object\n",
      "Remarcado                                50405 non-null object\n",
      "Cancelado                                50405 non-null object\n",
      "Valor Multas                             50405 non-null float64\n",
      "Valor Reembolso                          50405 non-null float64\n",
      "Diferença de Tarifa                      50405 non-null float64\n",
      "Situação Final Bilhete                   50405 non-null object\n",
      "dtypes: datetime64[ns](1), float64(9), object(13)\n",
      "memory usage: 8.8+ MB\n"
     ]
    }
   ],
   "source": [
    "df.info()"
   ]
  },
  {
   "cell_type": "code",
   "execution_count": 51,
   "metadata": {},
   "outputs": [
    {
     "data": {
      "text/plain": [
       "<pandas.core.groupby.groupby.DataFrameGroupBy object at 0x11da919b0>"
      ]
     },
     "execution_count": 51,
     "metadata": {},
     "output_type": "execute_result"
    }
   ],
   "source": [
    "# Quantidade de passagens por orgao superior\n",
    "df_agrupado_codigo = df.groupby('Nome do órgão superior')\n",
    "df_agrupado_codigo"
   ]
  },
  {
   "cell_type": "code",
   "execution_count": 52,
   "metadata": {},
   "outputs": [
    {
     "data": {
      "text/plain": [
       "Nome do órgão superior\n",
       " Advocacia-Geral da União                                                                 309573.65\n",
       " Agência Nacional de Aviação Civil                                                        594578.76\n",
       " Agência Nacional de Energia Elétrica                                                     105003.94\n",
       " Agência Nacional de Saúde Suplementar                                                    121325.73\n",
       " Agência Nacional de Telecomunicações                                                     169151.14\n",
       " Agência Nacional de Transportes Aquaviários                                               49856.90\n",
       " Agência Nacional de Transportes Terrestres                                               204722.89\n",
       " Agência Nacional de Vigilância Sanitária                                                 311491.49\n",
       " Agência Nacional do Cinema                                                                37852.36\n",
       " Agência Nacional do Petróleo, Gás Natural e Biocombustíveis                              179401.83\n",
       " Caixa de Financiamento Imobiliário da Aeronáutica                                          2594.54\n",
       " Casa Civil da Presidência da República                                                   113841.09\n",
       " Centro Federal de Educação Tecnológica de Minas Gerais                                    30169.27\n",
       " Centro Federal de Educação Tecnológica ´Celso Suckow da Fonseca´                          36077.24\n",
       " Colégio Pedro II                                                                          21394.72\n",
       " Comando da Aeronáutica                                                                   746430.48\n",
       " Comando do Exército                                                                      948452.73\n",
       " Comissão Nacional de Energia Nuclear                                                     164706.85\n",
       " Comissão de Valores Mobiliários                                                           99813.68\n",
       " Conselho Administrativo de Defesa Econômica                                               16221.12\n",
       " Conselho Nacional de Desenvolvimento Científico e Tecnológico                              2873.28\n",
       " Departamento Nacional de Infra-Estrutura de Transportes                                  533916.36\n",
       " Departamento Nacional de Obras Contra as Secas                                            43505.14\n",
       " Departamento Nacional de Produção Mineral                                                135841.43\n",
       " Departamento de Polícia Federal                                                         2016073.94\n",
       " Departamento de Polícia Rodoviária Federal                                              1102263.87\n",
       " Empresa de Pesquisa Energética                                                             1417.80\n",
       " Empresa de Planejamento e Logística S.A.                                                  37231.98\n",
       " Fundação Casa de Rui Barbosa                                                               7209.54\n",
       " Fundação Cultural Palmares                                                                49278.47\n",
       "                                                                                            ...    \n",
       " Universidade Federal de Alfenas                                                           24520.38\n",
       " Universidade Federal de Campina Grande                                                   105033.70\n",
       " Universidade Federal de Goiás                                                            198027.86\n",
       " Universidade Federal de Itajubá                                                           24244.67\n",
       " Universidade Federal de Juiz de Fora                                                     201142.67\n",
       " Universidade Federal de Lavras                                                            16998.99\n",
       " Universidade Federal de Minas Gerais                                                      39172.73\n",
       " Universidade Federal de Pernambuco                                                       171169.04\n",
       " Universidade Federal de Santa Catarina                                                    91294.58\n",
       " Universidade Federal de Santa Maria                                                       99590.13\n",
       " Universidade Federal de São Paulo                                                         62364.60\n",
       " Universidade Federal de Uberlândia                                                       316538.55\n",
       " Universidade Federal do Cariri                                                            50735.82\n",
       " Universidade Federal do Ceará                                                            116496.71\n",
       " Universidade Federal do Espírito Santo                                                    99956.10\n",
       " Universidade Federal do Estado do Rio de Janeiro                                          59389.79\n",
       " Universidade Federal do Oeste da Bahia                                                    67801.40\n",
       " Universidade Federal do Oeste do Pará                                                     68823.24\n",
       " Universidade Federal do Paraná                                                           175617.85\n",
       " Universidade Federal do Pará                                                             358462.45\n",
       " Universidade Federal do Recôncavo da Bahia                                                12272.23\n",
       " Universidade Federal do Rio Grande                                                        76147.04\n",
       " Universidade Federal do Rio Grande do Sul                                                171009.46\n",
       " Universidade Federal do Rio de Janeiro                                                   136983.54\n",
       " Universidade Federal do Sul da Bahia                                                      35277.25\n",
       " Universidade Federal do Sul e Sudeste do Pará                                             31600.70\n",
       " Universidade Federal do Triângulo Mineiro                                                 17155.10\n",
       " Universidade Federal dos Vales do Jequitinhonha e Mucuri                                  33296.92\n",
       " Universidade Tecnológica Federal do Paraná                                               126580.22\n",
       " Universidade da Integração Internacional da Lusofonia Afro-Brasileira-UNILAB              37966.22\n",
       "Name: Valor Tarifa Comercial, Length: 180, dtype: float64"
      ]
     },
     "execution_count": 52,
     "metadata": {},
     "output_type": "execute_result"
    }
   ],
   "source": [
    "# somatorio do VALOR TARIFA COMERCIAL por orgao\n",
    "df_agrupado_codigo['Valor Tarifa Comercial'].sum()"
   ]
  },
  {
   "cell_type": "code",
   "execution_count": 53,
   "metadata": {},
   "outputs": [
    {
     "data": {
      "text/plain": [
       "Nome do órgão superior\n",
       " Advocacia-Geral da União                                                                 304031.69\n",
       " Agência Nacional de Aviação Civil                                                        586118.37\n",
       " Agência Nacional de Energia Elétrica                                                     102552.06\n",
       " Agência Nacional de Saúde Suplementar                                                    118044.06\n",
       " Agência Nacional de Telecomunicações                                                     165766.07\n",
       " Agência Nacional de Transportes Aquaviários                                               49202.32\n",
       " Agência Nacional de Transportes Terrestres                                               203334.51\n",
       " Agência Nacional de Vigilância Sanitária                                                 304373.59\n",
       " Agência Nacional do Cinema                                                                37046.83\n",
       " Agência Nacional do Petróleo, Gás Natural e Biocombustíveis                              176152.39\n",
       " Caixa de Financiamento Imobiliário da Aeronáutica                                          2594.54\n",
       " Casa Civil da Presidência da República                                                   111118.28\n",
       " Centro Federal de Educação Tecnológica de Minas Gerais                                    29586.25\n",
       " Centro Federal de Educação Tecnológica ´Celso Suckow da Fonseca´                          36152.78\n",
       " Colégio Pedro II                                                                          20653.17\n",
       " Comando da Aeronáutica                                                                   732826.91\n",
       " Comando do Exército                                                                      925910.09\n",
       " Comissão Nacional de Energia Nuclear                                                     161549.47\n",
       " Comissão de Valores Mobiliários                                                           98602.89\n",
       " Conselho Administrativo de Defesa Econômica                                               15414.20\n",
       " Conselho Nacional de Desenvolvimento Científico e Tecnológico                              2798.34\n",
       " Departamento Nacional de Infra-Estrutura de Transportes                                  528483.69\n",
       " Departamento Nacional de Obras Contra as Secas                                            41250.28\n",
       " Departamento Nacional de Produção Mineral                                                133212.49\n",
       " Departamento de Polícia Federal                                                         1985017.78\n",
       " Departamento de Polícia Rodoviária Federal                                              1082322.64\n",
       " Empresa de Pesquisa Energética                                                             1375.26\n",
       " Empresa de Planejamento e Logística S.A.                                                  35860.73\n",
       " Fundação Casa de Rui Barbosa                                                               7056.78\n",
       " Fundação Cultural Palmares                                                                48668.84\n",
       "                                                                                            ...    \n",
       " Universidade Federal de Alfenas                                                           24743.49\n",
       " Universidade Federal de Campina Grande                                                   102766.62\n",
       " Universidade Federal de Goiás                                                            195511.55\n",
       " Universidade Federal de Itajubá                                                           23979.30\n",
       " Universidade Federal de Juiz de Fora                                                     198061.41\n",
       " Universidade Federal de Lavras                                                            16728.03\n",
       " Universidade Federal de Minas Gerais                                                      38511.17\n",
       " Universidade Federal de Pernambuco                                                       167554.38\n",
       " Universidade Federal de Santa Catarina                                                    89538.60\n",
       " Universidade Federal de Santa Maria                                                       96004.28\n",
       " Universidade Federal de São Paulo                                                         60479.18\n",
       " Universidade Federal de Uberlândia                                                       311135.31\n",
       " Universidade Federal do Cariri                                                            48424.27\n",
       " Universidade Federal do Ceará                                                            114990.56\n",
       " Universidade Federal do Espírito Santo                                                    98338.00\n",
       " Universidade Federal do Estado do Rio de Janeiro                                          59116.57\n",
       " Universidade Federal do Oeste da Bahia                                                    67600.00\n",
       " Universidade Federal do Oeste do Pará                                                     68219.97\n",
       " Universidade Federal do Paraná                                                           171586.59\n",
       " Universidade Federal do Pará                                                             352475.21\n",
       " Universidade Federal do Recôncavo da Bahia                                                12045.31\n",
       " Universidade Federal do Rio Grande                                                        73107.52\n",
       " Universidade Federal do Rio Grande do Sul                                                165381.29\n",
       " Universidade Federal do Rio de Janeiro                                                   134838.90\n",
       " Universidade Federal do Sul da Bahia                                                      34289.68\n",
       " Universidade Federal do Sul e Sudeste do Pará                                             31082.96\n",
       " Universidade Federal do Triângulo Mineiro                                                 16703.99\n",
       " Universidade Federal dos Vales do Jequitinhonha e Mucuri                                  32635.00\n",
       " Universidade Tecnológica Federal do Paraná                                               124253.83\n",
       " Universidade da Integração Internacional da Lusofonia Afro-Brasileira-UNILAB              37147.40\n",
       "Name: Valor Tarifa Governo, Length: 180, dtype: float64"
      ]
     },
     "execution_count": 53,
     "metadata": {},
     "output_type": "execute_result"
    }
   ],
   "source": [
    "# somatorio do VALOR TARIFA GOVERNO por orgao\n",
    "df_agrupado_codigo['Valor Tarifa Governo'].sum()"
   ]
  },
  {
   "cell_type": "code",
   "execution_count": 54,
   "metadata": {},
   "outputs": [
    {
     "data": {
      "text/plain": [
       "Nome do órgão superior\n",
       " Advocacia-Geral da União                                                                14788.23\n",
       " Agência Nacional de Aviação Civil                                                       31916.94\n",
       " Agência Nacional de Energia Elétrica                                                     4729.23\n",
       " Agência Nacional de Saúde Suplementar                                                    6513.91\n",
       " Agência Nacional de Telecomunicações                                                     7575.76\n",
       " Agência Nacional de Transportes Aquaviários                                              2230.76\n",
       " Agência Nacional de Transportes Terrestres                                               8924.57\n",
       " Agência Nacional de Vigilância Sanitária                                                17489.06\n",
       " Agência Nacional do Cinema                                                               3103.00\n",
       " Agência Nacional do Petróleo, Gás Natural e Biocombustíveis                              8894.59\n",
       " Caixa de Financiamento Imobiliário da Aeronáutica                                         235.46\n",
       " Casa Civil da Presidência da República                                                   4955.07\n",
       " Centro Federal de Educação Tecnológica de Minas Gerais                                   2174.31\n",
       " Centro Federal de Educação Tecnológica ´Celso Suckow da Fonseca´                         2537.21\n",
       " Colégio Pedro II                                                                         1041.59\n",
       " Comando da Aeronáutica                                                                  33548.01\n",
       " Comando do Exército                                                                     39769.73\n",
       " Comissão Nacional de Energia Nuclear                                                     8112.86\n",
       " Comissão de Valores Mobiliários                                                          8154.72\n",
       " Conselho Administrativo de Defesa Econômica                                               481.39\n",
       " Conselho Nacional de Desenvolvimento Científico e Tecnológico                             315.75\n",
       " Departamento Nacional de Infra-Estrutura de Transportes                                 19703.07\n",
       " Departamento Nacional de Obras Contra as Secas                                           1245.65\n",
       " Departamento Nacional de Produção Mineral                                                5150.41\n",
       " Departamento de Polícia Federal                                                         77698.01\n",
       " Departamento de Polícia Rodoviária Federal                                              47545.22\n",
       " Empresa de Pesquisa Energética                                                            176.55\n",
       " Empresa de Planejamento e Logística S.A.                                                 1264.24\n",
       " Fundação Casa de Rui Barbosa                                                              331.82\n",
       " Fundação Cultural Palmares                                                               1702.66\n",
       "                                                                                           ...   \n",
       " Universidade Federal de Alfenas                                                          1294.05\n",
       " Universidade Federal de Campina Grande                                                   3806.63\n",
       " Universidade Federal de Goiás                                                           12358.29\n",
       " Universidade Federal de Itajubá                                                          1553.72\n",
       " Universidade Federal de Juiz de Fora                                                    12015.79\n",
       " Universidade Federal de Lavras                                                            677.55\n",
       " Universidade Federal de Minas Gerais                                                     3578.27\n",
       " Universidade Federal de Pernambuco                                                       8634.47\n",
       " Universidade Federal de Santa Catarina                                                   5820.53\n",
       " Universidade Federal de Santa Maria                                                      5681.05\n",
       " Universidade Federal de São Paulo                                                        2682.35\n",
       " Universidade Federal de Uberlândia                                                      18932.24\n",
       " Universidade Federal do Cariri                                                           2358.36\n",
       " Universidade Federal do Ceará                                                            5505.16\n",
       " Universidade Federal do Espírito Santo                                                   5712.62\n",
       " Universidade Federal do Estado do Rio de Janeiro                                         3097.39\n",
       " Universidade Federal do Oeste da Bahia                                                   2427.40\n",
       " Universidade Federal do Oeste do Pará                                                    2693.27\n",
       " Universidade Federal do Paraná                                                          10923.59\n",
       " Universidade Federal do Pará                                                            16200.92\n",
       " Universidade Federal do Recôncavo da Bahia                                                699.17\n",
       " Universidade Federal do Rio Grande                                                       3761.83\n",
       " Universidade Federal do Rio Grande do Sul                                                8375.93\n",
       " Universidade Federal do Rio de Janeiro                                                   9533.12\n",
       " Universidade Federal do Sul da Bahia                                                     1625.55\n",
       " Universidade Federal do Sul e Sudeste do Pará                                            1577.26\n",
       " Universidade Federal do Triângulo Mineiro                                                 665.79\n",
       " Universidade Federal dos Vales do Jequitinhonha e Mucuri                                 1385.77\n",
       " Universidade Tecnológica Federal do Paraná                                               7530.18\n",
       " Universidade da Integração Internacional da Lusofonia Afro-Brasileira-UNILAB             1294.50\n",
       "Name: Valor Tarifa Embarque, Length: 180, dtype: float64"
      ]
     },
     "execution_count": 54,
     "metadata": {},
     "output_type": "execute_result"
    }
   ],
   "source": [
    "# somatorio do VALOR TARIFA EMBARQUE por orgao\n",
    "df_agrupado_codigo['Valor Tarifa Embarque'].sum()"
   ]
  },
  {
   "cell_type": "code",
   "execution_count": 55,
   "metadata": {},
   "outputs": [
    {
     "data": {
      "text/plain": [
       "Nome do órgão superior\n",
       " Advocacia-Geral da União                                                                 318819.92\n",
       " Agência Nacional de Aviação Civil                                                        618035.31\n",
       " Agência Nacional de Energia Elétrica                                                     107281.29\n",
       " Agência Nacional de Saúde Suplementar                                                    124557.97\n",
       " Agência Nacional de Telecomunicações                                                     173341.83\n",
       " Agência Nacional de Transportes Aquaviários                                               51433.08\n",
       " Agência Nacional de Transportes Terrestres                                               212259.08\n",
       " Agência Nacional de Vigilância Sanitária                                                 321862.65\n",
       " Agência Nacional do Cinema                                                                40149.83\n",
       " Agência Nacional do Petróleo, Gás Natural e Biocombustíveis                              185046.98\n",
       " Caixa de Financiamento Imobiliário da Aeronáutica                                          2830.00\n",
       " Casa Civil da Presidência da República                                                   116073.35\n",
       " Centro Federal de Educação Tecnológica de Minas Gerais                                    31760.56\n",
       " Centro Federal de Educação Tecnológica ´Celso Suckow da Fonseca´                          38689.99\n",
       " Colégio Pedro II                                                                          21694.76\n",
       " Comando da Aeronáutica                                                                   766374.92\n",
       " Comando do Exército                                                                      965679.82\n",
       " Comissão Nacional de Energia Nuclear                                                     169662.33\n",
       " Comissão de Valores Mobiliários                                                          106757.61\n",
       " Conselho Administrativo de Defesa Econômica                                               15895.59\n",
       " Conselho Nacional de Desenvolvimento Científico e Tecnológico                              3114.09\n",
       " Departamento Nacional de Infra-Estrutura de Transportes                                  548186.76\n",
       " Departamento Nacional de Obras Contra as Secas                                            42495.93\n",
       " Departamento Nacional de Produção Mineral                                                138362.90\n",
       " Departamento de Polícia Federal                                                         2062715.79\n",
       " Departamento de Polícia Rodoviária Federal                                              1129867.86\n",
       " Empresa de Pesquisa Energética                                                             1551.81\n",
       " Empresa de Planejamento e Logística S.A.                                                  37124.97\n",
       " Fundação Casa de Rui Barbosa                                                               7388.60\n",
       " Fundação Cultural Palmares                                                                50371.50\n",
       "                                                                                            ...    \n",
       " Universidade Federal de Alfenas                                                           26037.54\n",
       " Universidade Federal de Campina Grande                                                   106573.25\n",
       " Universidade Federal de Goiás                                                            207869.84\n",
       " Universidade Federal de Itajubá                                                           25533.02\n",
       " Universidade Federal de Juiz de Fora                                                     210077.20\n",
       " Universidade Federal de Lavras                                                            17405.58\n",
       " Universidade Federal de Minas Gerais                                                      42089.44\n",
       " Universidade Federal de Pernambuco                                                       176188.85\n",
       " Universidade Federal de Santa Catarina                                                    95359.13\n",
       " Universidade Federal de Santa Maria                                                      101685.33\n",
       " Universidade Federal de São Paulo                                                         63161.53\n",
       " Universidade Federal de Uberlândia                                                       330067.55\n",
       " Universidade Federal do Cariri                                                            50782.63\n",
       " Universidade Federal do Ceará                                                            120495.72\n",
       " Universidade Federal do Espírito Santo                                                   104050.62\n",
       " Universidade Federal do Estado do Rio de Janeiro                                          62213.96\n",
       " Universidade Federal do Oeste da Bahia                                                    70027.40\n",
       " Universidade Federal do Oeste do Pará                                                     70913.24\n",
       " Universidade Federal do Paraná                                                           182510.18\n",
       " Universidade Federal do Pará                                                             368676.13\n",
       " Universidade Federal do Recôncavo da Bahia                                                12744.48\n",
       " Universidade Federal do Rio Grande                                                        76869.35\n",
       " Universidade Federal do Rio Grande do Sul                                                173757.22\n",
       " Universidade Federal do Rio de Janeiro                                                   144372.02\n",
       " Universidade Federal do Sul da Bahia                                                      35915.23\n",
       " Universidade Federal do Sul e Sudeste do Pará                                             32660.22\n",
       " Universidade Federal do Triângulo Mineiro                                                 17369.78\n",
       " Universidade Federal dos Vales do Jequitinhonha e Mucuri                                  34020.77\n",
       " Universidade Tecnológica Federal do Paraná                                               131784.01\n",
       " Universidade da Integração Internacional da Lusofonia Afro-Brasileira-UNILAB              38441.90\n",
       "Name: Valor Bilhete, Length: 180, dtype: float64"
      ]
     },
     "execution_count": 55,
     "metadata": {},
     "output_type": "execute_result"
    }
   ],
   "source": [
    "df_agrupado_codigo['Valor Bilhete'].sum()"
   ]
  },
  {
   "cell_type": "code",
   "execution_count": 118,
   "metadata": {},
   "outputs": [
    {
     "ename": "ImportError",
     "evalue": "matplotlib is required for plotting.",
     "output_type": "error",
     "traceback": [
      "\u001b[0;31m---------------------------------------------------------------------------\u001b[0m",
      "\u001b[0;31mImportError\u001b[0m                               Traceback (most recent call last)",
      "\u001b[0;32m<ipython-input-118-bfbef7624a68>\u001b[0m in \u001b[0;36m<module>\u001b[0;34m\u001b[0m\n\u001b[1;32m      1\u001b[0m \u001b[0;31m# Quantidade de cada Situação Final Bilhete por órgão\u001b[0m\u001b[0;34m\u001b[0m\u001b[0;34m\u001b[0m\u001b[0;34m\u001b[0m\u001b[0m\n\u001b[0;32m----> 2\u001b[0;31m \u001b[0mdf_agrupado_codigo\u001b[0m\u001b[0;34m[\u001b[0m\u001b[0;34m'Situação Final Bilhete'\u001b[0m\u001b[0;34m]\u001b[0m\u001b[0;34m.\u001b[0m\u001b[0mvalue_counts\u001b[0m\u001b[0;34m(\u001b[0m\u001b[0;34m)\u001b[0m\u001b[0;34m.\u001b[0m\u001b[0mplot\u001b[0m\u001b[0;34m.\u001b[0m\u001b[0mbar\u001b[0m\u001b[0;34m(\u001b[0m\u001b[0;34m)\u001b[0m\u001b[0;34m\u001b[0m\u001b[0;34m\u001b[0m\u001b[0m\n\u001b[0m",
      "\u001b[0;32m/usr/local/lib/python3.7/site-packages/pandas/plotting/_core.py\u001b[0m in \u001b[0;36mbar\u001b[0;34m(self, **kwds)\u001b[0m\n\u001b[1;32m   2781\u001b[0m         \u001b[0maxes\u001b[0m \u001b[0;34m:\u001b[0m \u001b[0;34m:\u001b[0m\u001b[0;32mclass\u001b[0m\u001b[0;34m:\u001b[0m\u001b[0;31m`\u001b[0m\u001b[0mmatplotlib\u001b[0m\u001b[0;34m.\u001b[0m\u001b[0maxes\u001b[0m\u001b[0;34m.\u001b[0m\u001b[0mAxes\u001b[0m\u001b[0;31m`\u001b[0m \u001b[0;32mor\u001b[0m \u001b[0mnumpy\u001b[0m\u001b[0;34m.\u001b[0m\u001b[0mndarray\u001b[0m \u001b[0mof\u001b[0m \u001b[0mthem\u001b[0m\u001b[0;34m\u001b[0m\u001b[0;34m\u001b[0m\u001b[0m\n\u001b[1;32m   2782\u001b[0m         \"\"\"\n\u001b[0;32m-> 2783\u001b[0;31m         \u001b[0;32mreturn\u001b[0m \u001b[0mself\u001b[0m\u001b[0;34m(\u001b[0m\u001b[0mkind\u001b[0m\u001b[0;34m=\u001b[0m\u001b[0;34m'bar'\u001b[0m\u001b[0;34m,\u001b[0m \u001b[0;34m**\u001b[0m\u001b[0mkwds\u001b[0m\u001b[0;34m)\u001b[0m\u001b[0;34m\u001b[0m\u001b[0;34m\u001b[0m\u001b[0m\n\u001b[0m\u001b[1;32m   2784\u001b[0m \u001b[0;34m\u001b[0m\u001b[0m\n\u001b[1;32m   2785\u001b[0m     \u001b[0;32mdef\u001b[0m \u001b[0mbarh\u001b[0m\u001b[0;34m(\u001b[0m\u001b[0mself\u001b[0m\u001b[0;34m,\u001b[0m \u001b[0;34m**\u001b[0m\u001b[0mkwds\u001b[0m\u001b[0;34m)\u001b[0m\u001b[0;34m:\u001b[0m\u001b[0;34m\u001b[0m\u001b[0;34m\u001b[0m\u001b[0m\n",
      "\u001b[0;32m/usr/local/lib/python3.7/site-packages/pandas/plotting/_core.py\u001b[0m in \u001b[0;36m__call__\u001b[0;34m(self, kind, ax, figsize, use_index, title, grid, legend, style, logx, logy, loglog, xticks, yticks, xlim, ylim, rot, fontsize, colormap, table, yerr, xerr, label, secondary_y, **kwds)\u001b[0m\n\u001b[1;32m   2739\u001b[0m                            \u001b[0mcolormap\u001b[0m\u001b[0;34m=\u001b[0m\u001b[0mcolormap\u001b[0m\u001b[0;34m,\u001b[0m \u001b[0mtable\u001b[0m\u001b[0;34m=\u001b[0m\u001b[0mtable\u001b[0m\u001b[0;34m,\u001b[0m \u001b[0myerr\u001b[0m\u001b[0;34m=\u001b[0m\u001b[0myerr\u001b[0m\u001b[0;34m,\u001b[0m\u001b[0;34m\u001b[0m\u001b[0;34m\u001b[0m\u001b[0m\n\u001b[1;32m   2740\u001b[0m                            \u001b[0mxerr\u001b[0m\u001b[0;34m=\u001b[0m\u001b[0mxerr\u001b[0m\u001b[0;34m,\u001b[0m \u001b[0mlabel\u001b[0m\u001b[0;34m=\u001b[0m\u001b[0mlabel\u001b[0m\u001b[0;34m,\u001b[0m \u001b[0msecondary_y\u001b[0m\u001b[0;34m=\u001b[0m\u001b[0msecondary_y\u001b[0m\u001b[0;34m,\u001b[0m\u001b[0;34m\u001b[0m\u001b[0;34m\u001b[0m\u001b[0m\n\u001b[0;32m-> 2741\u001b[0;31m                            **kwds)\n\u001b[0m\u001b[1;32m   2742\u001b[0m     \u001b[0m__call__\u001b[0m\u001b[0;34m.\u001b[0m\u001b[0m__doc__\u001b[0m \u001b[0;34m=\u001b[0m \u001b[0mplot_series\u001b[0m\u001b[0;34m.\u001b[0m\u001b[0m__doc__\u001b[0m\u001b[0;34m\u001b[0m\u001b[0;34m\u001b[0m\u001b[0m\n\u001b[1;32m   2743\u001b[0m \u001b[0;34m\u001b[0m\u001b[0m\n",
      "\u001b[0;32m/usr/local/lib/python3.7/site-packages/pandas/plotting/_core.py\u001b[0m in \u001b[0;36mplot_series\u001b[0;34m(data, kind, ax, figsize, use_index, title, grid, legend, style, logx, logy, loglog, xticks, yticks, xlim, ylim, rot, fontsize, colormap, table, yerr, xerr, label, secondary_y, **kwds)\u001b[0m\n\u001b[1;32m   2000\u001b[0m                  \u001b[0myerr\u001b[0m\u001b[0;34m=\u001b[0m\u001b[0myerr\u001b[0m\u001b[0;34m,\u001b[0m \u001b[0mxerr\u001b[0m\u001b[0;34m=\u001b[0m\u001b[0mxerr\u001b[0m\u001b[0;34m,\u001b[0m\u001b[0;34m\u001b[0m\u001b[0;34m\u001b[0m\u001b[0m\n\u001b[1;32m   2001\u001b[0m                  \u001b[0mlabel\u001b[0m\u001b[0;34m=\u001b[0m\u001b[0mlabel\u001b[0m\u001b[0;34m,\u001b[0m \u001b[0msecondary_y\u001b[0m\u001b[0;34m=\u001b[0m\u001b[0msecondary_y\u001b[0m\u001b[0;34m,\u001b[0m\u001b[0;34m\u001b[0m\u001b[0;34m\u001b[0m\u001b[0m\n\u001b[0;32m-> 2002\u001b[0;31m                  **kwds)\n\u001b[0m\u001b[1;32m   2003\u001b[0m \u001b[0;34m\u001b[0m\u001b[0m\n\u001b[1;32m   2004\u001b[0m \u001b[0;34m\u001b[0m\u001b[0m\n",
      "\u001b[0;32m/usr/local/lib/python3.7/site-packages/pandas/plotting/_core.py\u001b[0m in \u001b[0;36m_plot\u001b[0;34m(data, x, y, subplots, ax, kind, **kwds)\u001b[0m\n\u001b[1;32m   1800\u001b[0m                     \u001b[0mdata\u001b[0m\u001b[0;34m.\u001b[0m\u001b[0mcolumns\u001b[0m \u001b[0;34m=\u001b[0m \u001b[0mlabel_name\u001b[0m\u001b[0;34m\u001b[0m\u001b[0;34m\u001b[0m\u001b[0m\n\u001b[1;32m   1801\u001b[0m \u001b[0;34m\u001b[0m\u001b[0m\n\u001b[0;32m-> 1802\u001b[0;31m         \u001b[0mplot_obj\u001b[0m \u001b[0;34m=\u001b[0m \u001b[0mklass\u001b[0m\u001b[0;34m(\u001b[0m\u001b[0mdata\u001b[0m\u001b[0;34m,\u001b[0m \u001b[0msubplots\u001b[0m\u001b[0;34m=\u001b[0m\u001b[0msubplots\u001b[0m\u001b[0;34m,\u001b[0m \u001b[0max\u001b[0m\u001b[0;34m=\u001b[0m\u001b[0max\u001b[0m\u001b[0;34m,\u001b[0m \u001b[0mkind\u001b[0m\u001b[0;34m=\u001b[0m\u001b[0mkind\u001b[0m\u001b[0;34m,\u001b[0m \u001b[0;34m**\u001b[0m\u001b[0mkwds\u001b[0m\u001b[0;34m)\u001b[0m\u001b[0;34m\u001b[0m\u001b[0;34m\u001b[0m\u001b[0m\n\u001b[0m\u001b[1;32m   1803\u001b[0m \u001b[0;34m\u001b[0m\u001b[0m\n\u001b[1;32m   1804\u001b[0m     \u001b[0mplot_obj\u001b[0m\u001b[0;34m.\u001b[0m\u001b[0mgenerate\u001b[0m\u001b[0;34m(\u001b[0m\u001b[0;34m)\u001b[0m\u001b[0;34m\u001b[0m\u001b[0;34m\u001b[0m\u001b[0m\n",
      "\u001b[0;32m/usr/local/lib/python3.7/site-packages/pandas/plotting/_core.py\u001b[0m in \u001b[0;36m__init__\u001b[0;34m(self, data, **kwargs)\u001b[0m\n\u001b[1;32m   1180\u001b[0m \u001b[0;34m\u001b[0m\u001b[0m\n\u001b[1;32m   1181\u001b[0m         \u001b[0mself\u001b[0m\u001b[0;34m.\u001b[0m\u001b[0mlog\u001b[0m \u001b[0;34m=\u001b[0m \u001b[0mkwargs\u001b[0m\u001b[0;34m.\u001b[0m\u001b[0mpop\u001b[0m\u001b[0;34m(\u001b[0m\u001b[0;34m'log'\u001b[0m\u001b[0;34m,\u001b[0m \u001b[0;32mFalse\u001b[0m\u001b[0;34m)\u001b[0m\u001b[0;34m\u001b[0m\u001b[0;34m\u001b[0m\u001b[0m\n\u001b[0;32m-> 1182\u001b[0;31m         \u001b[0mMPLPlot\u001b[0m\u001b[0;34m.\u001b[0m\u001b[0m__init__\u001b[0m\u001b[0;34m(\u001b[0m\u001b[0mself\u001b[0m\u001b[0;34m,\u001b[0m \u001b[0mdata\u001b[0m\u001b[0;34m,\u001b[0m \u001b[0;34m**\u001b[0m\u001b[0mkwargs\u001b[0m\u001b[0;34m)\u001b[0m\u001b[0;34m\u001b[0m\u001b[0;34m\u001b[0m\u001b[0m\n\u001b[0m\u001b[1;32m   1183\u001b[0m \u001b[0;34m\u001b[0m\u001b[0m\n\u001b[1;32m   1184\u001b[0m         \u001b[0;32mif\u001b[0m \u001b[0mself\u001b[0m\u001b[0;34m.\u001b[0m\u001b[0mstacked\u001b[0m \u001b[0;32mor\u001b[0m \u001b[0mself\u001b[0m\u001b[0;34m.\u001b[0m\u001b[0msubplots\u001b[0m\u001b[0;34m:\u001b[0m\u001b[0;34m\u001b[0m\u001b[0;34m\u001b[0m\u001b[0m\n",
      "\u001b[0;32m/usr/local/lib/python3.7/site-packages/pandas/plotting/_core.py\u001b[0m in \u001b[0;36m__init__\u001b[0;34m(self, data, kind, by, subplots, sharex, sharey, use_index, figsize, grid, legend, rot, ax, fig, title, xlim, ylim, xticks, yticks, sort_columns, fontsize, secondary_y, colormap, table, layout, **kwds)\u001b[0m\n\u001b[1;32m    105\u001b[0m                  table=False, layout=None, **kwds):\n\u001b[1;32m    106\u001b[0m \u001b[0;34m\u001b[0m\u001b[0m\n\u001b[0;32m--> 107\u001b[0;31m         \u001b[0m_raise_if_no_mpl\u001b[0m\u001b[0;34m(\u001b[0m\u001b[0;34m)\u001b[0m\u001b[0;34m\u001b[0m\u001b[0;34m\u001b[0m\u001b[0m\n\u001b[0m\u001b[1;32m    108\u001b[0m         \u001b[0m_converter\u001b[0m\u001b[0;34m.\u001b[0m\u001b[0m_WARN\u001b[0m \u001b[0;34m=\u001b[0m \u001b[0;32mFalse\u001b[0m\u001b[0;34m\u001b[0m\u001b[0;34m\u001b[0m\u001b[0m\n\u001b[1;32m    109\u001b[0m         \u001b[0mself\u001b[0m\u001b[0;34m.\u001b[0m\u001b[0mdata\u001b[0m \u001b[0;34m=\u001b[0m \u001b[0mdata\u001b[0m\u001b[0;34m\u001b[0m\u001b[0;34m\u001b[0m\u001b[0m\n",
      "\u001b[0;32m/usr/local/lib/python3.7/site-packages/pandas/plotting/_core.py\u001b[0m in \u001b[0;36m_raise_if_no_mpl\u001b[0;34m()\u001b[0m\n\u001b[1;32m     55\u001b[0m     \u001b[0;31m# TODO(mpl_converter): remove once converter is explicit\u001b[0m\u001b[0;34m\u001b[0m\u001b[0;34m\u001b[0m\u001b[0;34m\u001b[0m\u001b[0m\n\u001b[1;32m     56\u001b[0m     \u001b[0;32mif\u001b[0m \u001b[0;32mnot\u001b[0m \u001b[0m_HAS_MPL\u001b[0m\u001b[0;34m:\u001b[0m\u001b[0;34m\u001b[0m\u001b[0;34m\u001b[0m\u001b[0m\n\u001b[0;32m---> 57\u001b[0;31m         \u001b[0;32mraise\u001b[0m \u001b[0mImportError\u001b[0m\u001b[0;34m(\u001b[0m\u001b[0;34m\"matplotlib is required for plotting.\"\u001b[0m\u001b[0;34m)\u001b[0m\u001b[0;34m\u001b[0m\u001b[0;34m\u001b[0m\u001b[0m\n\u001b[0m\u001b[1;32m     58\u001b[0m \u001b[0;34m\u001b[0m\u001b[0m\n\u001b[1;32m     59\u001b[0m \u001b[0;34m\u001b[0m\u001b[0m\n",
      "\u001b[0;31mImportError\u001b[0m: matplotlib is required for plotting."
     ]
    }
   ],
   "source": [
    "# Quantidade de cada Situação Final Bilhete por órgão\n",
    "df_agrupado_codigo['Situação Final Bilhete'].value_counts()"
   ]
  },
  {
   "cell_type": "code",
   "execution_count": 56,
   "metadata": {},
   "outputs": [],
   "source": [
    "df_agrupado_companhia_aerea = df.groupby('Companhia Aérea')"
   ]
  },
  {
   "cell_type": "code",
   "execution_count": 57,
   "metadata": {},
   "outputs": [
    {
     "data": {
      "text/plain": [
       "Companhia Aérea\n",
       " AVIANCA S.A.                             5.270300e+06\n",
       " AZUL LINHAS AÉREAS BRASILEIRA            7.951178e+06\n",
       " GOL Linhas Aéreas Inteligentes           1.252865e+07\n",
       " Gol OU Latam - Parceria com Terceiro     1.559996e+05\n",
       " LATAM AIRLINES BRASIL                    8.086123e+06\n",
       " MAP TRANSPORTES AEREOS LTDA - MAP        1.961120e+05\n",
       "Name: Valor Tarifa Comercial, dtype: float64"
      ]
     },
     "execution_count": 57,
     "metadata": {},
     "output_type": "execute_result"
    }
   ],
   "source": [
    "# somatorio do VALOR TARIFA COMERCIAL por companhia aerea\n",
    "df_agrupado_companhia_aerea['Valor Tarifa Comercial'].sum()"
   ]
  },
  {
   "cell_type": "code",
   "execution_count": 58,
   "metadata": {},
   "outputs": [
    {
     "data": {
      "text/plain": [
       "Companhia Aérea\n",
       " AVIANCA S.A.                             4.980484e+06\n",
       " AZUL LINHAS AÉREAS BRASILEIRA            7.709556e+06\n",
       " GOL Linhas Aéreas Inteligentes           1.241002e+07\n",
       " Gol OU Latam - Parceria com Terceiro     1.559996e+05\n",
       " LATAM AIRLINES BRASIL                    8.086123e+06\n",
       " MAP TRANSPORTES AEREOS LTDA - MAP        1.960995e+05\n",
       "Name: Valor Tarifa Governo, dtype: float64"
      ]
     },
     "execution_count": 58,
     "metadata": {},
     "output_type": "execute_result"
    }
   ],
   "source": [
    "# somatorio do VALOR TARIFA GOVERNO por companhia aerea\n",
    "df_agrupado_companhia_aerea['Valor Tarifa Governo'].sum()"
   ]
  },
  {
   "cell_type": "code",
   "execution_count": 59,
   "metadata": {},
   "outputs": [
    {
     "data": {
      "text/plain": [
       "Companhia Aérea\n",
       " AVIANCA S.A.                              5245246.64\n",
       " AZUL LINHAS AÉREAS BRASILEIRA             8020100.45\n",
       " GOL Linhas Aéreas Inteligentes           12936609.65\n",
       " Gol OU Latam - Parceria com Terceiro       162520.18\n",
       " LATAM AIRLINES BRASIL                     8457533.31\n",
       " MAP TRANSPORTES AEREOS LTDA - MAP          202197.21\n",
       "Name: Valor Bilhete, dtype: float64"
      ]
     },
     "execution_count": 59,
     "metadata": {},
     "output_type": "execute_result"
    }
   ],
   "source": [
    "# somatorio do VALOR BILHETE por companhia aerea\n",
    "df_agrupado_companhia_aerea['Valor Bilhete'].sum()"
   ]
  },
  {
   "cell_type": "code",
   "execution_count": 63,
   "metadata": {},
   "outputs": [
    {
     "data": {
      "text/plain": [
       "Companhia Aérea\n",
       " AVIANCA S.A.                             580.997634\n",
       " AZUL LINHAS AÉREAS BRASILEIRA            731.293923\n",
       " GOL Linhas Aéreas Inteligentes           736.373500\n",
       " Gol OU Latam - Parceria com Terceiro     608.689813\n",
       " LATAM AIRLINES BRASIL                    687.548436\n",
       " MAP TRANSPORTES AEREOS LTDA - MAP        737.946022\n",
       "Name: Valor Bilhete, dtype: float64"
      ]
     },
     "execution_count": 63,
     "metadata": {},
     "output_type": "execute_result"
    }
   ],
   "source": [
    "# valor médio da coluna VALOR BILHETE por companhia aerea\n",
    "df_agrupado_companhia_aerea['Valor Bilhete'].mean()"
   ]
  },
  {
   "cell_type": "code",
   "execution_count": 64,
   "metadata": {},
   "outputs": [
    {
     "data": {
      "text/plain": [
       "Companhia Aérea\n",
       " AVIANCA S.A.                             120.18\n",
       " AZUL LINHAS AÉREAS BRASILEIRA             99.64\n",
       " GOL Linhas Aéreas Inteligentes           103.39\n",
       " Gol OU Latam - Parceria com Terceiro     152.45\n",
       " LATAM AIRLINES BRASIL                      0.00\n",
       " MAP TRANSPORTES AEREOS LTDA - MAP        249.90\n",
       "Name: Valor Bilhete, dtype: float64"
      ]
     },
     "execution_count": 64,
     "metadata": {},
     "output_type": "execute_result"
    }
   ],
   "source": [
    "# valor mínimo da coluna VALOR BILHETE por companhia aerea\n",
    "df_agrupado_companhia_aerea['Valor Bilhete'].min()"
   ]
  },
  {
   "cell_type": "code",
   "execution_count": 65,
   "metadata": {},
   "outputs": [
    {
     "data": {
      "text/plain": [
       "Companhia Aérea\n",
       " AVIANCA S.A.                             2993.84\n",
       " AZUL LINHAS AÉREAS BRASILEIRA            4083.61\n",
       " GOL Linhas Aéreas Inteligentes           4053.19\n",
       " Gol OU Latam - Parceria com Terceiro     1843.35\n",
       " LATAM AIRLINES BRASIL                    3319.07\n",
       " MAP TRANSPORTES AEREOS LTDA - MAP        1729.70\n",
       "Name: Valor Bilhete, dtype: float64"
      ]
     },
     "execution_count": 65,
     "metadata": {},
     "output_type": "execute_result"
    }
   ],
   "source": [
    "# valor máximo da coluna VALOR BILHETE por companhia aerea\n",
    "df_agrupado_companhia_aerea['Valor Bilhete'].max()"
   ]
  },
  {
   "cell_type": "code",
   "execution_count": 138,
   "metadata": {},
   "outputs": [
    {
     "data": {
      "text/plain": [
       " GOL Linhas Aéreas Inteligentes           3463\n",
       " LATAM AIRLINES BRASIL                    2429\n",
       " AVIANCA S.A.                             1733\n",
       " AZUL LINHAS AÉREAS BRASILEIRA            1563\n",
       " Gol OU Latam - Parceria com Terceiro       44\n",
       " MAP TRANSPORTES AEREOS LTDA - MAP          40\n",
       "Name: Companhia Aérea, dtype: int64"
      ]
     },
     "execution_count": 138,
     "metadata": {},
     "output_type": "execute_result"
    }
   ],
   "source": [
    "# quantidade de embarques noturnos por companhia aerea\n",
    "df_dt_embarque = df[df['Data Embarque'].dt.hour > 18]\n",
    "df_dt_embarque['Companhia Aérea'].value_counts()\n"
   ]
  },
  {
   "cell_type": "code",
   "execution_count": 129,
   "metadata": {},
   "outputs": [
    {
     "data": {
      "text/plain": [
       "<matplotlib.axes._subplots.AxesSubplot at 0x11d2d0b38>"
      ]
     },
     "execution_count": 129,
     "metadata": {},
     "output_type": "execute_result"
    },
    {
     "data": {
      "image/png": "[encoded data removed]",
      "text/plain": [
       "<Figure size 432x288 with 1 Axes>"
      ]
     },
     "metadata": {
      "needs_background": "light"
     },
     "output_type": "display_data"
    }
   ],
   "source": [
    "# Quantidade de embarques diurnos por companhia aerea\n",
    "\n",
    "import matplotlib as plt\n",
    "%matplotlib inline  \n",
    "df_dt_embarque = df[df['Data Embarque'].dt.hour < 18]\n",
    "df_dt_embarque['Companhia Aérea'].value_counts()\n",
    "sns.countplot(x='Companhia Aérea', data=df_dt_embarque)"
   ]
  },
  {
   "cell_type": "code",
   "execution_count": 115,
   "metadata": {},
   "outputs": [
    {
     "ename": "TypeError",
     "evalue": "bar() missing 1 required positional argument: 'height'",
     "output_type": "error",
     "traceback": [
      "\u001b[0;31m---------------------------------------------------------------------------\u001b[0m",
      "\u001b[0;31mTypeError\u001b[0m                                 Traceback (most recent call last)",
      "\u001b[0;32m<ipython-input-115-663f31f6cede>\u001b[0m in \u001b[0;36m<module>\u001b[0;34m\u001b[0m\n\u001b[0;32m----> 1\u001b[0;31m \u001b[0mplt\u001b[0m\u001b[0;34m.\u001b[0m\u001b[0mbar\u001b[0m\u001b[0;34m(\u001b[0m\u001b[0mdf_dt_embarque\u001b[0m\u001b[0;34m)\u001b[0m\u001b[0;34m\u001b[0m\u001b[0;34m\u001b[0m\u001b[0m\n\u001b[0m\u001b[1;32m      2\u001b[0m \u001b[0mplt\u001b[0m\u001b[0;34m.\u001b[0m\u001b[0mshow\u001b[0m\u001b[0;34m(\u001b[0m\u001b[0;34m)\u001b[0m\u001b[0;34m\u001b[0m\u001b[0;34m\u001b[0m\u001b[0m\n",
      "\u001b[0;31mTypeError\u001b[0m: bar() missing 1 required positional argument: 'height'"
     ]
    }
   ],
   "source": [
    "plt.bar(df_dt_embarque)\n",
    "plt.show()"
   ]
  }
 ],
 "metadata": {
  "kernelspec": {
   "display_name": "Python 3",
   "language": "python",
   "name": "python3"
  },
  "language_info": {
   "codemirror_mode": {
    "name": "ipython",
    "version": 3
   },
   "file_extension": ".py",
   "mimetype": "text/x-python",
   "name": "python",
   "nbconvert_exporter": "python",
   "pygments_lexer": "ipython3",
   "version": "3.7.1"
  }
 },
 "nbformat": 4,
 "nbformat_minor": 2
}
